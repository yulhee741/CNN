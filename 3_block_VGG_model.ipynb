{
  "nbformat": 4,
  "nbformat_minor": 0,
  "metadata": {
    "colab": {
      "name": "3-block-VGG-model",
      "provenance": [],
      "authorship_tag": "ABX9TyNp32pkqYBjGAhfWBITz2cF",
      "include_colab_link": true
    },
    "kernelspec": {
      "name": "python3",
      "display_name": "Python 3"
    },
    "accelerator": "GPU"
  },
  "cells": [
    {
      "cell_type": "markdown",
      "metadata": {
        "id": "view-in-github",
        "colab_type": "text"
      },
      "source": [
        "<a href=\"https://colab.research.google.com/github/yulhee741/CNN/blob/main/3_block_VGG_model.ipynb\" target=\"_parent\"><img src=\"https://colab.research.google.com/assets/colab-badge.svg\" alt=\"Open In Colab\"/></a>"
      ]
    },
    {
      "cell_type": "code",
      "metadata": {
        "colab": {
          "base_uri": "https://localhost:8080/",
          "height": 371
        },
        "id": "7cFG7ElqVQX9",
        "outputId": "18334307-b2d4-4b71-cfa0-48f6ec9f9246"
      },
      "source": [
        "import sys\r\n",
        "from matplotlib import pyplot\r\n",
        "from keras.datasets import cifar10\r\n",
        "from keras.utils import to_categorical\r\n",
        "from keras.models import Sequential\r\n",
        "from keras.layers import Conv2D\r\n",
        "from keras.layers import MaxPooling2D\r\n",
        "from keras.layers import Dense\r\n",
        "from keras.layers import Flatten\r\n",
        "from keras.optimizers import SGD\r\n",
        "from keras.preprocessing.image import ImageDataGenerator\r\n",
        "from keras.layers import Dropout\r\n",
        "from keras.layers import BatchNormalization\r\n",
        " \r\n",
        "# load train and test dataset\r\n",
        "def load_dataset():\r\n",
        "\t# load dataset\r\n",
        "\t(trainX, trainY), (testX, testY) = cifar10.load_data()\r\n",
        "\t# one hot encode target values\r\n",
        "\ttrainY = to_categorical(trainY)\r\n",
        "\ttestY = to_categorical(testY)\r\n",
        "\treturn trainX, trainY, testX, testY\r\n",
        " \r\n",
        "# scale pixels\r\n",
        "def prep_pixels(train, test):\r\n",
        "\t# convert from integers to floats\r\n",
        "\ttrain_norm = train.astype('float32')\r\n",
        "\ttest_norm = test.astype('float32')\r\n",
        "\t# normalize to range 0-1\r\n",
        "\ttrain_norm = train_norm / 255.0\r\n",
        "\ttest_norm = test_norm / 255.0\r\n",
        "\t# return normalized images\r\n",
        "\treturn train_norm, test_norm\r\n",
        " \r\n",
        "# define cnn model\r\n",
        "def define_model():\r\n",
        "\tmodel = Sequential()\r\n",
        "\tmodel.add(Conv2D(32, (3, 3), activation='relu', kernel_initializer='he_uniform', padding='same', input_shape=(32, 32, 3)))\r\n",
        "\tmodel.add(BatchNormalization())\r\n",
        "\tmodel.add(Conv2D(32, (3, 3), activation='relu', kernel_initializer='he_uniform', padding='same'))\r\n",
        "\tmodel.add(BatchNormalization())\r\n",
        "\tmodel.add(MaxPooling2D((2, 2)))\r\n",
        "\tmodel.add(Dropout(0.2))\r\n",
        "\tmodel.add(Conv2D(64, (3, 3), activation='relu', kernel_initializer='he_uniform', padding='same'))\r\n",
        "\tmodel.add(BatchNormalization())\r\n",
        "\tmodel.add(Conv2D(64, (3, 3), activation='relu', kernel_initializer='he_uniform', padding='same'))\r\n",
        "\tmodel.add(BatchNormalization())\r\n",
        "\tmodel.add(MaxPooling2D((2, 2)))\r\n",
        "\tmodel.add(Dropout(0.3))\r\n",
        "\tmodel.add(Conv2D(128, (3, 3), activation='relu', kernel_initializer='he_uniform', padding='same'))\r\n",
        "\tmodel.add(BatchNormalization())\r\n",
        "\tmodel.add(Conv2D(128, (3, 3), activation='relu', kernel_initializer='he_uniform', padding='same'))\r\n",
        "\tmodel.add(BatchNormalization())\r\n",
        "\tmodel.add(MaxPooling2D((2, 2)))\r\n",
        "\tmodel.add(Dropout(0.4))\r\n",
        "\tmodel.add(Flatten())\r\n",
        "\tmodel.add(Dense(128, activation='relu', kernel_initializer='he_uniform'))\r\n",
        "\tmodel.add(BatchNormalization())\r\n",
        "\tmodel.add(Dropout(0.5))\r\n",
        "\tmodel.add(Dense(10, activation='softmax'))\r\n",
        "\t# compile model\r\n",
        "\topt = SGD(lr=0.001, momentum=0.9)\r\n",
        "\tmodel.compile(optimizer=opt, loss='categorical_crossentropy', metrics=['accuracy'])\r\n",
        "\treturn model\r\n",
        " \r\n",
        "# plot diagnostic learning curves\r\n",
        "def summarize_diagnostics(history):\r\n",
        "\t# plot loss\r\n",
        "\tpyplot.subplot(211)\r\n",
        "\tpyplot.title('Cross Entropy Loss')\r\n",
        "\tpyplot.plot(history.history['loss'], color='blue', label='train')\r\n",
        "\tpyplot.plot(history.history['val_loss'], color='orange', label='test')\r\n",
        "\t# plot accuracy\r\n",
        "\tpyplot.subplot(212)\r\n",
        "\tpyplot.title('Classification Accuracy')\r\n",
        "\tpyplot.plot(history.history['accuracy'], color='blue', label='train')\r\n",
        "\tpyplot.plot(history.history['val_accuracy'], color='orange', label='test')\r\n",
        "\tpyplot.show()\r\n",
        " \r\n",
        "# run the test harness for evaluating a model\r\n",
        "def run_test_harness():\r\n",
        "\t# load dataset\r\n",
        "\ttrainX, trainY, testX, testY = load_dataset()\r\n",
        "\t# prepare pixel data\r\n",
        "\ttrainX, testX = prep_pixels(trainX, testX)\r\n",
        "\t# define model\r\n",
        "\tmodel = define_model()\r\n",
        "\t# create data generator\r\n",
        "\tdatagen = ImageDataGenerator(width_shift_range=0.1, height_shift_range=0.1, horizontal_flip=True)\r\n",
        "\t# prepare iterator\r\n",
        "\tit_train = datagen.flow(trainX, trainY, batch_size=64)\r\n",
        "\t# fit model\r\n",
        "\tsteps = int(trainX.shape[0] / 64)\r\n",
        "\thistory = model.fit_generator(it_train, steps_per_epoch=steps, epochs=400, validation_data=(testX, testY), verbose=0)\r\n",
        "\t# evaluate model\r\n",
        "\t_, acc = model.evaluate(testX, testY, verbose=0)\r\n",
        "\tprint('> %.3f' % (acc * 100.0))\r\n",
        "\t# learning curves\r\n",
        "\tsummarize_diagnostics(history)\r\n",
        " \r\n",
        "# entry point, run the test harness\r\n",
        "run_test_harness()"
      ],
      "execution_count": null,
      "outputs": [
        {
          "output_type": "stream",
          "text": [
            "Downloading data from https://www.cs.toronto.edu/~kriz/cifar-10-python.tar.gz\n",
            "170500096/170498071 [==============================] - 3s 0us/step\n"
          ],
          "name": "stdout"
        },
        {
          "output_type": "stream",
          "text": [
            "/usr/local/lib/python3.6/dist-packages/tensorflow/python/keras/engine/training.py:1844: UserWarning: `Model.fit_generator` is deprecated and will be removed in a future version. Please use `Model.fit`, which supports generators.\n",
            "  warnings.warn('`Model.fit_generator` is deprecated and '\n"
          ],
          "name": "stderr"
        },
        {
          "output_type": "stream",
          "text": [
            "> 88.260\n"
          ],
          "name": "stdout"
        },
        {
          "output_type": "display_data",
          "data": {
            "image/png": "[encoded data removed]",
            "text/plain": [
              "<Figure size 432x288 with 2 Axes>"
            ]
          },
          "metadata": {
            "tags": [],
            "needs_background": "light"
          }
        }
      ]
    },
    {
      "cell_type": "code",
      "metadata": {
        "id": "wqneXHnpVU7p"
      },
      "source": [
        ""
      ],
      "execution_count": null,
      "outputs": []
    }
  ]
}